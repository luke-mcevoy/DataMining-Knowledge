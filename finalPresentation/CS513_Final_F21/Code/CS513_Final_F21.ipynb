{
 "cells": [
  {
   "cell_type": "code",
   "execution_count": 1,
   "metadata": {},
   "outputs": [],
   "source": [
    "import numpy as np\n",
    "import pandas as pd\n",
    "import matplotlib.pyplot as plt\n",
    "import seaborn as sns"
   ]
  },
  {
   "cell_type": "code",
   "execution_count": 2,
   "metadata": {},
   "outputs": [
    {
     "name": "stdout",
     "output_type": "stream",
     "text": [
      "/Users/lukemcevoy/Develop/stevens/f21/dataMining/final/data/test.csv\n",
      "/Users/lukemcevoy/Develop/stevens/f21/dataMining/final/data/train.csv\n",
      "/Users/lukemcevoy/Develop/stevens/f21/dataMining/final/data/sample_submission.csv\n",
      "/Users/lukemcevoy/Develop/stevens/f21/dataMining/final/data/TextEncoding/ohe_city_tier.sav\n",
      "/Users/lukemcevoy/Develop/stevens/f21/dataMining/final/data/TextEncoding/le_ADDRESS_classes.sav\n",
      "/Users/lukemcevoy/Develop/stevens/f21/dataMining/final/data/TextEncoding/le_city_tier.sav\n",
      "/Users/lukemcevoy/Develop/stevens/f21/dataMining/final/data/TextEncoding/le_ADDRESS.sav\n",
      "/Users/lukemcevoy/Develop/stevens/f21/dataMining/final/data/TextEncoding/ohe_POSTED_BY.sav\n",
      "/Users/lukemcevoy/Develop/stevens/f21/dataMining/final/data/TextEncoding/le_city_tier_classes.sav\n",
      "/Users/lukemcevoy/Develop/stevens/f21/dataMining/final/data/TextEncoding/le_POSTED_BY.sav\n",
      "/Users/lukemcevoy/Develop/stevens/f21/dataMining/final/data/TextEncoding/le_BHK_OR_RK_classes.sav\n",
      "/Users/lukemcevoy/Develop/stevens/f21/dataMining/final/data/TextEncoding/le_POSTED_BY_classes.sav\n",
      "/Users/lukemcevoy/Develop/stevens/f21/dataMining/final/data/TextEncoding/le_BHK_OR_RK.sav\n"
     ]
    }
   ],
   "source": [
    "import os\n",
    "cwd = '/Users/lukemcevoy/Develop/stevens/f21/dataMining/final/data'\n",
    "for dirname, _, filenames in os.walk(cwd):\n",
    "    for filename in filenames:\n",
    "        print(os.path.join(dirname, filename))"
   ]
  },
  {
   "cell_type": "code",
   "execution_count": 3,
   "metadata": {},
   "outputs": [
    {
     "data": {
      "text/html": [
       "<div>\n",
       "<style scoped>\n",
       "    .dataframe tbody tr th:only-of-type {\n",
       "        vertical-align: middle;\n",
       "    }\n",
       "\n",
       "    .dataframe tbody tr th {\n",
       "        vertical-align: top;\n",
       "    }\n",
       "\n",
       "    .dataframe thead th {\n",
       "        text-align: right;\n",
       "    }\n",
       "</style>\n",
       "<table border=\"1\" class=\"dataframe\">\n",
       "  <thead>\n",
       "    <tr style=\"text-align: right;\">\n",
       "      <th></th>\n",
       "      <th>POSTED_BY</th>\n",
       "      <th>UNDER_CONSTRUCTION</th>\n",
       "      <th>RERA</th>\n",
       "      <th>BHK_NO.</th>\n",
       "      <th>BHK_OR_RK</th>\n",
       "      <th>SQUARE_FT</th>\n",
       "      <th>READY_TO_MOVE</th>\n",
       "      <th>RESALE</th>\n",
       "      <th>ADDRESS</th>\n",
       "      <th>LONGITUDE</th>\n",
       "      <th>LATITUDE</th>\n",
       "      <th>TARGET(PRICE_IN_LACS)</th>\n",
       "    </tr>\n",
       "  </thead>\n",
       "  <tbody>\n",
       "    <tr>\n",
       "      <th>0</th>\n",
       "      <td>Owner</td>\n",
       "      <td>0</td>\n",
       "      <td>0</td>\n",
       "      <td>2</td>\n",
       "      <td>BHK</td>\n",
       "      <td>1300.236407</td>\n",
       "      <td>1</td>\n",
       "      <td>1</td>\n",
       "      <td>Ksfc Layout,Bangalore</td>\n",
       "      <td>12.969910</td>\n",
       "      <td>77.597960</td>\n",
       "      <td>55.0</td>\n",
       "    </tr>\n",
       "    <tr>\n",
       "      <th>1</th>\n",
       "      <td>Dealer</td>\n",
       "      <td>0</td>\n",
       "      <td>0</td>\n",
       "      <td>2</td>\n",
       "      <td>BHK</td>\n",
       "      <td>1275.000000</td>\n",
       "      <td>1</td>\n",
       "      <td>1</td>\n",
       "      <td>Vishweshwara Nagar,Mysore</td>\n",
       "      <td>12.274538</td>\n",
       "      <td>76.644605</td>\n",
       "      <td>51.0</td>\n",
       "    </tr>\n",
       "    <tr>\n",
       "      <th>2</th>\n",
       "      <td>Owner</td>\n",
       "      <td>0</td>\n",
       "      <td>0</td>\n",
       "      <td>2</td>\n",
       "      <td>BHK</td>\n",
       "      <td>933.159722</td>\n",
       "      <td>1</td>\n",
       "      <td>1</td>\n",
       "      <td>Jigani,Bangalore</td>\n",
       "      <td>12.778033</td>\n",
       "      <td>77.632191</td>\n",
       "      <td>43.0</td>\n",
       "    </tr>\n",
       "    <tr>\n",
       "      <th>3</th>\n",
       "      <td>Owner</td>\n",
       "      <td>0</td>\n",
       "      <td>1</td>\n",
       "      <td>2</td>\n",
       "      <td>BHK</td>\n",
       "      <td>929.921143</td>\n",
       "      <td>1</td>\n",
       "      <td>1</td>\n",
       "      <td>Sector-1 Vaishali,Ghaziabad</td>\n",
       "      <td>28.642300</td>\n",
       "      <td>77.344500</td>\n",
       "      <td>62.5</td>\n",
       "    </tr>\n",
       "    <tr>\n",
       "      <th>4</th>\n",
       "      <td>Dealer</td>\n",
       "      <td>1</td>\n",
       "      <td>0</td>\n",
       "      <td>2</td>\n",
       "      <td>BHK</td>\n",
       "      <td>999.009247</td>\n",
       "      <td>0</td>\n",
       "      <td>1</td>\n",
       "      <td>New Town,Kolkata</td>\n",
       "      <td>22.592200</td>\n",
       "      <td>88.484911</td>\n",
       "      <td>60.5</td>\n",
       "    </tr>\n",
       "  </tbody>\n",
       "</table>\n",
       "</div>"
      ],
      "text/plain": [
       "  POSTED_BY  UNDER_CONSTRUCTION  RERA  BHK_NO. BHK_OR_RK    SQUARE_FT  \\\n",
       "0     Owner                   0     0        2       BHK  1300.236407   \n",
       "1    Dealer                   0     0        2       BHK  1275.000000   \n",
       "2     Owner                   0     0        2       BHK   933.159722   \n",
       "3     Owner                   0     1        2       BHK   929.921143   \n",
       "4    Dealer                   1     0        2       BHK   999.009247   \n",
       "\n",
       "   READY_TO_MOVE  RESALE                      ADDRESS  LONGITUDE   LATITUDE  \\\n",
       "0              1       1        Ksfc Layout,Bangalore  12.969910  77.597960   \n",
       "1              1       1    Vishweshwara Nagar,Mysore  12.274538  76.644605   \n",
       "2              1       1             Jigani,Bangalore  12.778033  77.632191   \n",
       "3              1       1  Sector-1 Vaishali,Ghaziabad  28.642300  77.344500   \n",
       "4              0       1             New Town,Kolkata  22.592200  88.484911   \n",
       "\n",
       "   TARGET(PRICE_IN_LACS)  \n",
       "0                   55.0  \n",
       "1                   51.0  \n",
       "2                   43.0  \n",
       "3                   62.5  \n",
       "4                   60.5  "
      ]
     },
     "execution_count": 3,
     "metadata": {},
     "output_type": "execute_result"
    }
   ],
   "source": [
    "data = pd.read_csv('/Users/lukemcevoy/Develop/stevens/f21/dataMining/final/data/train.csv')\n",
    "data.head()"
   ]
  },
  {
   "cell_type": "code",
   "execution_count": 4,
   "metadata": {},
   "outputs": [
    {
     "name": "stdout",
     "output_type": "stream",
     "text": [
      "<class 'pandas.core.frame.DataFrame'>\n",
      "RangeIndex: 29451 entries, 0 to 29450\n",
      "Data columns (total 12 columns):\n",
      " #   Column                 Non-Null Count  Dtype  \n",
      "---  ------                 --------------  -----  \n",
      " 0   POSTED_BY              29451 non-null  object \n",
      " 1   UNDER_CONSTRUCTION     29451 non-null  int64  \n",
      " 2   RERA                   29451 non-null  int64  \n",
      " 3   BHK_NO.                29451 non-null  int64  \n",
      " 4   BHK_OR_RK              29451 non-null  object \n",
      " 5   SQUARE_FT              29451 non-null  float64\n",
      " 6   READY_TO_MOVE          29451 non-null  int64  \n",
      " 7   RESALE                 29451 non-null  int64  \n",
      " 8   ADDRESS                29451 non-null  object \n",
      " 9   LONGITUDE              29451 non-null  float64\n",
      " 10  LATITUDE               29451 non-null  float64\n",
      " 11  TARGET(PRICE_IN_LACS)  29451 non-null  float64\n",
      "dtypes: float64(4), int64(5), object(3)\n",
      "memory usage: 2.7+ MB\n"
     ]
    }
   ],
   "source": [
    "data.info()"
   ]
  },
  {
   "cell_type": "code",
   "execution_count": 5,
   "metadata": {},
   "outputs": [],
   "source": [
    "data['ADDRESS'] = data['ADDRESS'].str.split(',').apply(lambda x: x[-1])"
   ]
  },
  {
   "cell_type": "code",
   "execution_count": 6,
   "metadata": {},
   "outputs": [
    {
     "data": {
      "text/plain": [
       "Bangalore        4340\n",
       "Lalitpur         2993\n",
       "Mumbai           2023\n",
       "Pune             1991\n",
       "Noida            1767\n",
       "Kolkata          1709\n",
       "Maharashtra      1579\n",
       "Chennai          1255\n",
       "Ghaziabad        1087\n",
       "Jaipur            962\n",
       "Chandigarh        696\n",
       "Faridabad         649\n",
       "Mohali            556\n",
       "Vadodara          510\n",
       "Gurgaon           430\n",
       "Surat             423\n",
       "Nagpur            336\n",
       "Lucknow           327\n",
       "Indore            306\n",
       "Bhubaneswar       235\n",
       "Bhopal            218\n",
       "Kochi             205\n",
       "Visakhapatnam     179\n",
       "Bhiwadi           161\n",
       "Goa               149\n",
       "Coimbatore        149\n",
       "Dehradun          131\n",
       "Ranchi            124\n",
       "Mangalore         122\n",
       "Gandhinagar       118\n",
       "Sonipat           117\n",
       "Secunderabad      109\n",
       "Palghar           107\n",
       "Kanpur             92\n",
       "Raipur             89\n",
       "Guwahati           89\n",
       "Jamshedpur         86\n",
       "Siliguri           83\n",
       "Rajkot             83\n",
       "Agra               83\n",
       "Patna              82\n",
       "Panchkula          82\n",
       "Vijayawada         80\n",
       "Aurangabad         66\n",
       "Jamnagar           66\n",
       "Raigad             65\n",
       "Dharuhera          63\n",
       "Thrissur           57\n",
       "Durgapur           55\n",
       "Gwalior            53\n",
       "Name: ADDRESS, dtype: int64"
      ]
     },
     "execution_count": 6,
     "metadata": {},
     "output_type": "execute_result"
    }
   ],
   "source": [
    "data['ADDRESS'].value_counts(ascending=False).head(50)"
   ]
  },
  {
   "cell_type": "code",
   "execution_count": 7,
   "metadata": {},
   "outputs": [],
   "source": [
    "def map_city(city):\n",
    "    if city in ['Ahmedabad', 'Bangalore', 'Chennai', 'Delhi', 'Hyderabad', 'Kolkata', 'Mumbai', 'Pune', 'Maharashtra']:\n",
    "        return 'tier1'\n",
    "    elif city in ['Agra', 'Ajmer', 'Aligarh', 'Amravati', 'Amritsar', 'Asansol', 'Aurangabad', 'Bareilly', \n",
    "                  'Belgaum', 'Bhavnagar', 'Bhiwandi', 'Bhopal', 'Bhubaneswar', 'Bikaner', 'Bilaspur', 'Bokaro Steel City', \n",
    "                  'Chandigarh', 'Coimbatore', 'Cuttack', 'Dehradun', 'Dhanbad', 'Bhilai', 'Durgapur', 'Dindigul', 'Erode', \n",
    "                  'Faridabad', 'Firozabad', 'Ghaziabad', 'Gorakhpur', 'Gulbarga', 'Guntur', 'Gwalior', 'Gurgaon', 'Guwahati', \n",
    "                  'Hamirpur', 'Hubli–Dharwad', 'Indore', 'Jabalpur', 'Jaipur', 'Jalandhar', 'Jammu', 'Jamnagar', 'Jamshedpur', \n",
    "                  'Jhansi', 'Jodhpur', 'Kakinada', 'Kannur', 'Kanpur', 'Karnal', 'Kochi', 'Kolhapur', 'Kollam', 'Kozhikode', \n",
    "                  'Kurnool', 'Ludhiana', 'Lucknow', 'Madurai', 'Malappuram', 'Mathura', 'Mangalore', 'Meerut', 'Moradabad', \n",
    "                  'Mysore', 'Nagpur', 'Nanded', 'Nashik', 'Nellore', 'Noida', 'Patna', 'Pondicherry', 'Purulia', 'Prayagraj', \n",
    "                  'Raipur', 'Rajkot', 'Rajahmundry', 'Ranchi', 'Rourkela', 'Ratlam', 'Salem', 'Sangli', 'Shimla', 'Siliguri', \n",
    "                  'Solapur', 'Srinagar', 'Surat', 'Thanjavur', 'Thiruvananthapuram', 'Thrissur', 'Tiruchirappalli', 'Tirunelveli', \n",
    "                  'Tiruvannamalai', 'Ujjain', 'Bijapur', 'Vadodara', 'Varanasi', 'Vasai-Virar City', 'Vijayawada', 'Visakhapatnam', \n",
    "                  'Vellore', 'Warangal']:\n",
    "        return 'tier2'\n",
    "    else:\n",
    "        return 'tier3'\n",
    "    \n",
    "data['city_tier'] = data['ADDRESS'].apply(map_city)"
   ]
  },
  {
   "cell_type": "code",
   "execution_count": 8,
   "metadata": {},
   "outputs": [],
   "source": [
    "%matplotlib inline\n",
    "data['area'] = np.log(data['SQUARE_FT'])\n",
    "data['PRICE_IN_LACS'] = np.log(data['TARGET(PRICE_IN_LACS)'])"
   ]
  },
  {
   "cell_type": "code",
   "execution_count": 9,
   "metadata": {},
   "outputs": [
    {
     "data": {
      "text/plain": [
       "Text(0, 0.5, 'PRICE_IN_LACS')"
      ]
     },
     "execution_count": 9,
     "metadata": {},
     "output_type": "execute_result"
    },
    {
     "data": {
      "image/png": "[encoded data removed]",
      "text/plain": [
       "<Figure size 432x288 with 1 Axes>"
      ]
     },
     "metadata": {
      "needs_background": "light"
     },
     "output_type": "display_data"
    }
   ],
   "source": [
    "plt.plot(data['area'], data['PRICE_IN_LACS'],'.')\n",
    "plt.xlabel('area')\n",
    "plt.ylabel('PRICE_IN_LACS')"
   ]
  },
  {
   "cell_type": "code",
   "execution_count": 10,
   "metadata": {},
   "outputs": [
    {
     "name": "stdout",
     "output_type": "stream",
     "text": [
      "0        4.007333\n",
      "1        3.931826\n",
      "2        3.761200\n",
      "3        4.135167\n",
      "4        4.102643\n",
      "           ...   \n",
      "29446    3.806662\n",
      "29447    2.772589\n",
      "29448    3.299534\n",
      "29449    4.204693\n",
      "29450    3.325036\n",
      "Name: PRICE_IN_LACS, Length: 29451, dtype: float64\n"
     ]
    }
   ],
   "source": [
    "print(data['PRICE_IN_LACS'])"
   ]
  },
  {
   "cell_type": "code",
   "execution_count": 11,
   "metadata": {},
   "outputs": [
    {
     "data": {
      "text/plain": [
       "Text(0, 0.5, 'PRICE_IN_LACS')"
      ]
     },
     "execution_count": 11,
     "metadata": {},
     "output_type": "execute_result"
    },
    {
     "data": {
      "image/png": "[encoded data removed]",
      "text/plain": [
       "<Figure size 432x288 with 1 Axes>"
      ]
     },
     "metadata": {
      "needs_background": "light"
     },
     "output_type": "display_data"
    }
   ],
   "source": [
    "%matplotlib inline\n",
    "\n",
    "plt.plot(data['LONGITUDE'], data['PRICE_IN_LACS'],'.')\n",
    "plt.xlabel('LONGITUDE')\n",
    "plt.ylabel('PRICE_IN_LACS')"
   ]
  },
  {
   "cell_type": "code",
   "execution_count": 12,
   "metadata": {},
   "outputs": [
    {
     "data": {
      "text/plain": [
       "Text(0, 0.5, 'PRICE_IN_LACS')"
      ]
     },
     "execution_count": 12,
     "metadata": {},
     "output_type": "execute_result"
    },
    {
     "data": {
      "image/png": "[encoded data removed]",
      "text/plain": [
       "<Figure size 432x288 with 1 Axes>"
      ]
     },
     "metadata": {
      "needs_background": "light"
     },
     "output_type": "display_data"
    }
   ],
   "source": [
    "%matplotlib inline\n",
    "\n",
    "plt.plot(data['LATITUDE'], data['TARGET(PRICE_IN_LACS)'],'.')\n",
    "plt.xlabel('LATITUDE')\n",
    "plt.ylabel('PRICE_IN_LACS')"
   ]
  },
  {
   "cell_type": "code",
   "execution_count": 13,
   "metadata": {},
   "outputs": [],
   "source": [
    "import random\n",
    "from matplotlib import pyplot as plt\n",
    "from matplotlib import cm\n",
    "from matplotlib import axes\n",
    "from matplotlib.font_manager import FontProperties"
   ]
  },
  {
   "cell_type": "code",
   "execution_count": 14,
   "metadata": {},
   "outputs": [
    {
     "data": {
      "text/plain": [
       "<matplotlib.colorbar.Colorbar at 0x7ff1cf43e100>"
      ]
     },
     "execution_count": 14,
     "metadata": {},
     "output_type": "execute_result"
    },
    {
     "data": {
      "image/png": "[encoded data removed]",
      "text/plain": [
       "<Figure size 600x400 with 2 Axes>"
      ]
     },
     "metadata": {
      "needs_background": "light"
     },
     "output_type": "display_data"
    }
   ],
   "source": [
    "d = [[1,0.36,-0.04,-0.11, -1,-0.35,0, -0.03,-0.11],\n",
    "       [0.36,1,0.02,0.01,-0.36,-0.27,0.1,-0.16,0.01],\n",
    "       [-0.04,0.02,1,0.82,0.04,0.01,0.09,0.12,0.82],\n",
    "       [-0.11,0.01,0.82,1,0.11,0.08,0.07,0.08,1],\n",
    "       [-1,-0.36, 0.04, 0.11,1,0.35, 0,0.03, 0.11],\n",
    "       [-0.35,-0.27, 0.01,0.08,0.35, 1, 0.03,0.03,0.08],\n",
    "       [0,0.1,0.09,0.07,0,0.03,1,0.01,0.07],\n",
    "       [-0.03,-0.16,0.12,0.08,0.03,0.03,0.01,1,0.08],\n",
    "       [-0.11,0.01,0.82,1,0.11,0.08,0.07,0.08,1]]\n",
    "xLabel = ['UNDER_CONSTRUCTION', 'RERA', 'BHK_NO.', 'SQUARE_FT', 'READY_TO_MOVE', 'RESALE', 'LONGITUDE', 'LATITUDE', 'area']\n",
    "yLabel = ['UNDER_CONSTRUCTION', 'RERA', 'BHK_NO.', 'SQUARE_FT', 'READY_TO_MOVE', 'RESALE', 'LONGITUDE', 'LATITUDE', 'area']\n",
    "\n",
    "d = np.array(d)\n",
    "plt.figure(dpi=100)\n",
    "plt.imshow(d, cmap=plt.cm.hot_r)\n",
    "plt.xticks(ticks=np.arange(9),labels=xLabel,rotation=90)\n",
    "plt.yticks(ticks=np.arange(9),labels=yLabel)\n",
    "plt.colorbar()"
   ]
  },
  {
   "cell_type": "code",
   "execution_count": 15,
   "metadata": {},
   "outputs": [],
   "source": [
    "categorical_features = ['POSTED_BY', 'BHK_OR_RK', 'city_tier', 'ADDRESS']\n",
    "numerical_features = ['UNDER_CONSTRUCTION', 'RERA', 'BHK_NO.', 'SQUARE_FT', 'READY_TO_MOVE', 'RESALE', 'LONGITUDE', 'LATITUDE', 'area']"
   ]
  },
  {
   "cell_type": "code",
   "execution_count": 16,
   "metadata": {},
   "outputs": [],
   "source": [
    "df = data.groupby(['ADDRESS'])['TARGET(PRICE_IN_LACS)'].describe()[['mean', 'count']]\n",
    "df = df[df['count']>20]"
   ]
  },
  {
   "cell_type": "code",
   "execution_count": 17,
   "metadata": {},
   "outputs": [],
   "source": [
    "from sklearn.preprocessing import LabelEncoder, OneHotEncoder\n",
    "import joblib"
   ]
  },
  {
   "cell_type": "code",
   "execution_count": 18,
   "metadata": {},
   "outputs": [],
   "source": [
    "df = data.copy()\n",
    "path = cwd\n",
    "for i, feature in enumerate(categorical_features):\n",
    "    le = LabelEncoder()\n",
    "    ohe = OneHotEncoder(sparse=False)\n",
    "    if not os.path.exists(os.path.join(path, \"TextEncoding\")):\n",
    "        os.makedirs(os.path.join(path, \"TextEncoding\"))\n",
    "    le.fit(df[feature])\n",
    "    joblib.dump(le, open(os.path.join(path, \"TextEncoding/le_{}.sav\".format(feature)), 'wb'))\n",
    "    df[feature] = le.transform(df[feature])\n",
    "    columns = list(map(lambda x: feature+' '+str(x), list(le.classes_)))[1:]\n",
    "    joblib.dump(columns, \n",
    "                open(os.path.join(path, \"TextEncoding/le_{}_classes.sav\".format(feature)), 'wb'))\n",
    "    columns = joblib.load(\n",
    "        open(os.path.join(path, \"TextEncoding/le_{}_classes.sav\".format(feature)), 'rb'))\n",
    "    if len(le.classes_)>2 and feature!='ADDRESS':\n",
    "        ohe.fit(df[[feature]])\n",
    "        joblib.dump(ohe, \n",
    "                    open(os.path.join(path, \"TextEncoding/ohe_{}.sav\".format(feature)), 'wb'))\n",
    "        tempData = ohe.transform(df[[feature]])[:, 1:]\n",
    "        tempData = pd.DataFrame(tempData, columns=columns)\n",
    "    else:\n",
    "        tempData = df[[feature]]\n",
    "    if i==0:\n",
    "        encodedData = pd.DataFrame(data=tempData, columns=tempData.columns.values.tolist())\n",
    "    else:\n",
    "        encodedData = pd.concat([encodedData, tempData], axis=1)"
   ]
  },
  {
   "cell_type": "code",
   "execution_count": 19,
   "metadata": {},
   "outputs": [
    {
     "name": "stdout",
     "output_type": "stream",
     "text": [
      "<class 'pandas.core.frame.DataFrame'>\n",
      "RangeIndex: 29451 entries, 0 to 29450\n",
      "Data columns (total 17 columns):\n",
      " #   Column                 Non-Null Count  Dtype  \n",
      "---  ------                 --------------  -----  \n",
      " 0   UNDER_CONSTRUCTION     29451 non-null  int64  \n",
      " 1   RERA                   29451 non-null  int64  \n",
      " 2   BHK_NO.                29451 non-null  int64  \n",
      " 3   SQUARE_FT              29451 non-null  float64\n",
      " 4   READY_TO_MOVE          29451 non-null  int64  \n",
      " 5   RESALE                 29451 non-null  int64  \n",
      " 6   LONGITUDE              29451 non-null  float64\n",
      " 7   LATITUDE               29451 non-null  float64\n",
      " 8   area                   29451 non-null  float64\n",
      " 9   TARGET(PRICE_IN_LACS)  29451 non-null  float64\n",
      " 10  PRICE_IN_LACS          29451 non-null  float64\n",
      " 11  POSTED_BY Dealer       29451 non-null  float64\n",
      " 12  POSTED_BY Owner        29451 non-null  float64\n",
      " 13  BHK_OR_RK              29451 non-null  int64  \n",
      " 14  city_tier tier2        29451 non-null  float64\n",
      " 15  city_tier tier3        29451 non-null  float64\n",
      " 16  ADDRESS                29451 non-null  int64  \n",
      "dtypes: float64(10), int64(7)\n",
      "memory usage: 3.8 MB\n"
     ]
    }
   ],
   "source": [
    "df = df[numerical_features+['TARGET(PRICE_IN_LACS)', 'PRICE_IN_LACS']]\n",
    "df = pd.concat([df, encodedData], axis=1)\n",
    "df.info()"
   ]
  },
  {
   "cell_type": "code",
   "execution_count": 20,
   "metadata": {},
   "outputs": [],
   "source": [
    "from sklearn.model_selection import train_test_split, cross_val_score\n",
    "from sklearn.linear_model import LinearRegression\n",
    "from sklearn import metrics, preprocessing\n",
    "from sklearn.metrics import mean_squared_error\n",
    "from sklearn.preprocessing import MinMaxScaler, StandardScaler\n",
    "from xgboost import XGBRegressor"
   ]
  },
  {
   "cell_type": "code",
   "execution_count": 21,
   "metadata": {},
   "outputs": [],
   "source": [
    "train_data = df.copy()\n",
    "feature_cols = [feature for feature in train_data.columns if feature not in(['READY_TO_MOVE', 'ADDRESS', 'TARGET(PRICE_IN_LACS)', \n",
    "                                                                             'SQUARE_FT', 'PRICE_IN_LACS'])]\n"
   ]
  },
  {
   "cell_type": "code",
   "execution_count": 22,
   "metadata": {},
   "outputs": [
    {
     "data": {
      "text/plain": [
       "['UNDER_CONSTRUCTION',\n",
       " 'RERA',\n",
       " 'BHK_NO.',\n",
       " 'RESALE',\n",
       " 'LONGITUDE',\n",
       " 'LATITUDE',\n",
       " 'area',\n",
       " 'POSTED_BY Dealer',\n",
       " 'POSTED_BY Owner',\n",
       " 'BHK_OR_RK',\n",
       " 'city_tier tier2',\n",
       " 'city_tier tier3']"
      ]
     },
     "execution_count": 22,
     "metadata": {},
     "output_type": "execute_result"
    }
   ],
   "source": [
    "feature_cols"
   ]
  },
  {
   "cell_type": "code",
   "execution_count": 23,
   "metadata": {},
   "outputs": [],
   "source": [
    "X = train_data[feature_cols]\n",
    "y = train_data['PRICE_IN_LACS']\n",
    "\n",
    "validation_size = 0.2\n",
    "X_train, X_test, y_train, y_test = train_test_split(X, y, test_size=validation_size, random_state=0, \n",
    "                                                    stratify=X[['RESALE', 'UNDER_CONSTRUCTION', 'RERA']])\n",
    "\n",
    "y1 = train_data['TARGET(PRICE_IN_LACS)']\n",
    "validation_size = 0.2\n",
    "X_train1, X_test1, y_train1, y_test1 = train_test_split(X, y1, test_size=validation_size, random_state=0, \n",
    "                                                    stratify=X[['RESALE', 'UNDER_CONSTRUCTION', 'RERA']])"
   ]
  },
  {
   "cell_type": "code",
   "execution_count": 24,
   "metadata": {},
   "outputs": [
    {
     "data": {
      "text/plain": [
       "22796    3.871201\n",
       "20812    2.197225\n",
       "10106    4.012773\n",
       "28692    4.787492\n",
       "2717     3.332205\n",
       "14283    4.442651\n",
       "28478    4.317488\n",
       "9295     3.555348\n",
       "3469     3.663562\n",
       "27661    3.417727\n",
       "22304    4.007333\n",
       "17551    4.174387\n",
       "2721     6.396930\n",
       "219      5.075174\n",
       "2195     3.496508\n",
       "10245    4.174387\n",
       "4435     3.860730\n",
       "28505    3.688879\n",
       "7691     3.401197\n",
       "7004     3.970292\n",
       "Name: PRICE_IN_LACS, dtype: float64"
      ]
     },
     "execution_count": 24,
     "metadata": {},
     "output_type": "execute_result"
    }
   ],
   "source": [
    "y_test.head(20)"
   ]
  },
  {
   "cell_type": "code",
   "execution_count": 25,
   "metadata": {},
   "outputs": [
    {
     "data": {
      "text/html": [
       "<div>\n",
       "<style scoped>\n",
       "    .dataframe tbody tr th:only-of-type {\n",
       "        vertical-align: middle;\n",
       "    }\n",
       "\n",
       "    .dataframe tbody tr th {\n",
       "        vertical-align: top;\n",
       "    }\n",
       "\n",
       "    .dataframe thead th {\n",
       "        text-align: right;\n",
       "    }\n",
       "</style>\n",
       "<table border=\"1\" class=\"dataframe\">\n",
       "  <thead>\n",
       "    <tr style=\"text-align: right;\">\n",
       "      <th></th>\n",
       "      <th>UNDER_CONSTRUCTION</th>\n",
       "      <th>RERA</th>\n",
       "      <th>BHK_NO.</th>\n",
       "      <th>RESALE</th>\n",
       "      <th>LONGITUDE</th>\n",
       "      <th>LATITUDE</th>\n",
       "      <th>area</th>\n",
       "      <th>POSTED_BY Dealer</th>\n",
       "      <th>POSTED_BY Owner</th>\n",
       "      <th>BHK_OR_RK</th>\n",
       "      <th>city_tier tier2</th>\n",
       "      <th>city_tier tier3</th>\n",
       "    </tr>\n",
       "  </thead>\n",
       "  <tbody>\n",
       "    <tr>\n",
       "      <th>22796</th>\n",
       "      <td>0</td>\n",
       "      <td>0</td>\n",
       "      <td>3</td>\n",
       "      <td>1</td>\n",
       "      <td>28.629811</td>\n",
       "      <td>77.434197</td>\n",
       "      <td>7.453201</td>\n",
       "      <td>1.0</td>\n",
       "      <td>0.0</td>\n",
       "      <td>0</td>\n",
       "      <td>1.0</td>\n",
       "      <td>0.0</td>\n",
       "    </tr>\n",
       "    <tr>\n",
       "      <th>20812</th>\n",
       "      <td>0</td>\n",
       "      <td>0</td>\n",
       "      <td>1</td>\n",
       "      <td>1</td>\n",
       "      <td>21.000000</td>\n",
       "      <td>79.000000</td>\n",
       "      <td>6.216833</td>\n",
       "      <td>0.0</td>\n",
       "      <td>1.0</td>\n",
       "      <td>0</td>\n",
       "      <td>1.0</td>\n",
       "      <td>0.0</td>\n",
       "    </tr>\n",
       "    <tr>\n",
       "      <th>10106</th>\n",
       "      <td>1</td>\n",
       "      <td>1</td>\n",
       "      <td>2</td>\n",
       "      <td>0</td>\n",
       "      <td>13.113890</td>\n",
       "      <td>77.598330</td>\n",
       "      <td>6.801491</td>\n",
       "      <td>1.0</td>\n",
       "      <td>0.0</td>\n",
       "      <td>0</td>\n",
       "      <td>0.0</td>\n",
       "      <td>0.0</td>\n",
       "    </tr>\n",
       "    <tr>\n",
       "      <th>28692</th>\n",
       "      <td>0</td>\n",
       "      <td>1</td>\n",
       "      <td>3</td>\n",
       "      <td>0</td>\n",
       "      <td>13.030600</td>\n",
       "      <td>77.648500</td>\n",
       "      <td>7.256249</td>\n",
       "      <td>1.0</td>\n",
       "      <td>0.0</td>\n",
       "      <td>0</td>\n",
       "      <td>0.0</td>\n",
       "      <td>0.0</td>\n",
       "    </tr>\n",
       "    <tr>\n",
       "      <th>2717</th>\n",
       "      <td>0</td>\n",
       "      <td>1</td>\n",
       "      <td>1</td>\n",
       "      <td>1</td>\n",
       "      <td>12.951610</td>\n",
       "      <td>80.140970</td>\n",
       "      <td>6.429748</td>\n",
       "      <td>0.0</td>\n",
       "      <td>1.0</td>\n",
       "      <td>0</td>\n",
       "      <td>0.0</td>\n",
       "      <td>0.0</td>\n",
       "    </tr>\n",
       "    <tr>\n",
       "      <th>14283</th>\n",
       "      <td>0</td>\n",
       "      <td>0</td>\n",
       "      <td>2</td>\n",
       "      <td>1</td>\n",
       "      <td>18.558319</td>\n",
       "      <td>73.775880</td>\n",
       "      <td>7.089983</td>\n",
       "      <td>0.0</td>\n",
       "      <td>1.0</td>\n",
       "      <td>0</td>\n",
       "      <td>0.0</td>\n",
       "      <td>0.0</td>\n",
       "    </tr>\n",
       "    <tr>\n",
       "      <th>28478</th>\n",
       "      <td>0</td>\n",
       "      <td>0</td>\n",
       "      <td>2</td>\n",
       "      <td>1</td>\n",
       "      <td>28.568096</td>\n",
       "      <td>77.390253</td>\n",
       "      <td>7.034529</td>\n",
       "      <td>0.0</td>\n",
       "      <td>1.0</td>\n",
       "      <td>0</td>\n",
       "      <td>1.0</td>\n",
       "      <td>0.0</td>\n",
       "    </tr>\n",
       "    <tr>\n",
       "      <th>9295</th>\n",
       "      <td>0</td>\n",
       "      <td>0</td>\n",
       "      <td>3</td>\n",
       "      <td>1</td>\n",
       "      <td>21.152819</td>\n",
       "      <td>79.069531</td>\n",
       "      <td>7.244228</td>\n",
       "      <td>0.0</td>\n",
       "      <td>1.0</td>\n",
       "      <td>0</td>\n",
       "      <td>0.0</td>\n",
       "      <td>1.0</td>\n",
       "    </tr>\n",
       "    <tr>\n",
       "      <th>3469</th>\n",
       "      <td>1</td>\n",
       "      <td>1</td>\n",
       "      <td>2</td>\n",
       "      <td>1</td>\n",
       "      <td>21.094632</td>\n",
       "      <td>79.074805</td>\n",
       "      <td>7.047312</td>\n",
       "      <td>0.0</td>\n",
       "      <td>1.0</td>\n",
       "      <td>0</td>\n",
       "      <td>1.0</td>\n",
       "      <td>0.0</td>\n",
       "    </tr>\n",
       "    <tr>\n",
       "      <th>27661</th>\n",
       "      <td>0</td>\n",
       "      <td>0</td>\n",
       "      <td>2</td>\n",
       "      <td>1</td>\n",
       "      <td>22.541110</td>\n",
       "      <td>88.337780</td>\n",
       "      <td>6.824439</td>\n",
       "      <td>1.0</td>\n",
       "      <td>0.0</td>\n",
       "      <td>0</td>\n",
       "      <td>0.0</td>\n",
       "      <td>0.0</td>\n",
       "    </tr>\n",
       "    <tr>\n",
       "      <th>22304</th>\n",
       "      <td>0</td>\n",
       "      <td>0</td>\n",
       "      <td>2</td>\n",
       "      <td>1</td>\n",
       "      <td>12.928575</td>\n",
       "      <td>77.585721</td>\n",
       "      <td>7.032700</td>\n",
       "      <td>0.0</td>\n",
       "      <td>1.0</td>\n",
       "      <td>0</td>\n",
       "      <td>0.0</td>\n",
       "      <td>0.0</td>\n",
       "    </tr>\n",
       "    <tr>\n",
       "      <th>17551</th>\n",
       "      <td>0</td>\n",
       "      <td>0</td>\n",
       "      <td>2</td>\n",
       "      <td>1</td>\n",
       "      <td>22.318485</td>\n",
       "      <td>73.162544</td>\n",
       "      <td>7.237970</td>\n",
       "      <td>1.0</td>\n",
       "      <td>0.0</td>\n",
       "      <td>0</td>\n",
       "      <td>1.0</td>\n",
       "      <td>0.0</td>\n",
       "    </tr>\n",
       "    <tr>\n",
       "      <th>2721</th>\n",
       "      <td>1</td>\n",
       "      <td>0</td>\n",
       "      <td>3</td>\n",
       "      <td>1</td>\n",
       "      <td>12.978000</td>\n",
       "      <td>77.578300</td>\n",
       "      <td>7.591381</td>\n",
       "      <td>1.0</td>\n",
       "      <td>0.0</td>\n",
       "      <td>0</td>\n",
       "      <td>0.0</td>\n",
       "      <td>1.0</td>\n",
       "    </tr>\n",
       "    <tr>\n",
       "      <th>219</th>\n",
       "      <td>0</td>\n",
       "      <td>0</td>\n",
       "      <td>4</td>\n",
       "      <td>1</td>\n",
       "      <td>30.697795</td>\n",
       "      <td>76.714722</td>\n",
       "      <td>7.741602</td>\n",
       "      <td>1.0</td>\n",
       "      <td>0.0</td>\n",
       "      <td>0</td>\n",
       "      <td>0.0</td>\n",
       "      <td>1.0</td>\n",
       "    </tr>\n",
       "    <tr>\n",
       "      <th>2195</th>\n",
       "      <td>0</td>\n",
       "      <td>0</td>\n",
       "      <td>2</td>\n",
       "      <td>1</td>\n",
       "      <td>13.090000</td>\n",
       "      <td>80.270000</td>\n",
       "      <td>6.826594</td>\n",
       "      <td>0.0</td>\n",
       "      <td>1.0</td>\n",
       "      <td>0</td>\n",
       "      <td>0.0</td>\n",
       "      <td>0.0</td>\n",
       "    </tr>\n",
       "    <tr>\n",
       "      <th>10245</th>\n",
       "      <td>0</td>\n",
       "      <td>0</td>\n",
       "      <td>2</td>\n",
       "      <td>1</td>\n",
       "      <td>28.642300</td>\n",
       "      <td>77.344500</td>\n",
       "      <td>7.130899</td>\n",
       "      <td>1.0</td>\n",
       "      <td>0.0</td>\n",
       "      <td>0</td>\n",
       "      <td>1.0</td>\n",
       "      <td>0.0</td>\n",
       "    </tr>\n",
       "    <tr>\n",
       "      <th>4435</th>\n",
       "      <td>1</td>\n",
       "      <td>1</td>\n",
       "      <td>3</td>\n",
       "      <td>1</td>\n",
       "      <td>30.696627</td>\n",
       "      <td>76.693764</td>\n",
       "      <td>7.250690</td>\n",
       "      <td>1.0</td>\n",
       "      <td>0.0</td>\n",
       "      <td>0</td>\n",
       "      <td>0.0</td>\n",
       "      <td>1.0</td>\n",
       "    </tr>\n",
       "    <tr>\n",
       "      <th>28505</th>\n",
       "      <td>0</td>\n",
       "      <td>0</td>\n",
       "      <td>4</td>\n",
       "      <td>1</td>\n",
       "      <td>22.288976</td>\n",
       "      <td>73.128222</td>\n",
       "      <td>7.804243</td>\n",
       "      <td>1.0</td>\n",
       "      <td>0.0</td>\n",
       "      <td>0</td>\n",
       "      <td>1.0</td>\n",
       "      <td>0.0</td>\n",
       "    </tr>\n",
       "    <tr>\n",
       "      <th>7691</th>\n",
       "      <td>0</td>\n",
       "      <td>0</td>\n",
       "      <td>2</td>\n",
       "      <td>1</td>\n",
       "      <td>31.092793</td>\n",
       "      <td>77.134004</td>\n",
       "      <td>6.684612</td>\n",
       "      <td>0.0</td>\n",
       "      <td>1.0</td>\n",
       "      <td>0</td>\n",
       "      <td>1.0</td>\n",
       "      <td>0.0</td>\n",
       "    </tr>\n",
       "    <tr>\n",
       "      <th>7004</th>\n",
       "      <td>0</td>\n",
       "      <td>1</td>\n",
       "      <td>3</td>\n",
       "      <td>1</td>\n",
       "      <td>30.682453</td>\n",
       "      <td>76.756960</td>\n",
       "      <td>7.226351</td>\n",
       "      <td>0.0</td>\n",
       "      <td>1.0</td>\n",
       "      <td>0</td>\n",
       "      <td>0.0</td>\n",
       "      <td>1.0</td>\n",
       "    </tr>\n",
       "  </tbody>\n",
       "</table>\n",
       "</div>"
      ],
      "text/plain": [
       "       UNDER_CONSTRUCTION  RERA  BHK_NO.  RESALE  LONGITUDE   LATITUDE  \\\n",
       "22796                   0     0        3       1  28.629811  77.434197   \n",
       "20812                   0     0        1       1  21.000000  79.000000   \n",
       "10106                   1     1        2       0  13.113890  77.598330   \n",
       "28692                   0     1        3       0  13.030600  77.648500   \n",
       "2717                    0     1        1       1  12.951610  80.140970   \n",
       "14283                   0     0        2       1  18.558319  73.775880   \n",
       "28478                   0     0        2       1  28.568096  77.390253   \n",
       "9295                    0     0        3       1  21.152819  79.069531   \n",
       "3469                    1     1        2       1  21.094632  79.074805   \n",
       "27661                   0     0        2       1  22.541110  88.337780   \n",
       "22304                   0     0        2       1  12.928575  77.585721   \n",
       "17551                   0     0        2       1  22.318485  73.162544   \n",
       "2721                    1     0        3       1  12.978000  77.578300   \n",
       "219                     0     0        4       1  30.697795  76.714722   \n",
       "2195                    0     0        2       1  13.090000  80.270000   \n",
       "10245                   0     0        2       1  28.642300  77.344500   \n",
       "4435                    1     1        3       1  30.696627  76.693764   \n",
       "28505                   0     0        4       1  22.288976  73.128222   \n",
       "7691                    0     0        2       1  31.092793  77.134004   \n",
       "7004                    0     1        3       1  30.682453  76.756960   \n",
       "\n",
       "           area  POSTED_BY Dealer  POSTED_BY Owner  BHK_OR_RK  \\\n",
       "22796  7.453201               1.0              0.0          0   \n",
       "20812  6.216833               0.0              1.0          0   \n",
       "10106  6.801491               1.0              0.0          0   \n",
       "28692  7.256249               1.0              0.0          0   \n",
       "2717   6.429748               0.0              1.0          0   \n",
       "14283  7.089983               0.0              1.0          0   \n",
       "28478  7.034529               0.0              1.0          0   \n",
       "9295   7.244228               0.0              1.0          0   \n",
       "3469   7.047312               0.0              1.0          0   \n",
       "27661  6.824439               1.0              0.0          0   \n",
       "22304  7.032700               0.0              1.0          0   \n",
       "17551  7.237970               1.0              0.0          0   \n",
       "2721   7.591381               1.0              0.0          0   \n",
       "219    7.741602               1.0              0.0          0   \n",
       "2195   6.826594               0.0              1.0          0   \n",
       "10245  7.130899               1.0              0.0          0   \n",
       "4435   7.250690               1.0              0.0          0   \n",
       "28505  7.804243               1.0              0.0          0   \n",
       "7691   6.684612               0.0              1.0          0   \n",
       "7004   7.226351               0.0              1.0          0   \n",
       "\n",
       "       city_tier tier2  city_tier tier3  \n",
       "22796              1.0              0.0  \n",
       "20812              1.0              0.0  \n",
       "10106              0.0              0.0  \n",
       "28692              0.0              0.0  \n",
       "2717               0.0              0.0  \n",
       "14283              0.0              0.0  \n",
       "28478              1.0              0.0  \n",
       "9295               0.0              1.0  \n",
       "3469               1.0              0.0  \n",
       "27661              0.0              0.0  \n",
       "22304              0.0              0.0  \n",
       "17551              1.0              0.0  \n",
       "2721               0.0              1.0  \n",
       "219                0.0              1.0  \n",
       "2195               0.0              0.0  \n",
       "10245              1.0              0.0  \n",
       "4435               0.0              1.0  \n",
       "28505              1.0              0.0  \n",
       "7691               1.0              0.0  \n",
       "7004               0.0              1.0  "
      ]
     },
     "execution_count": 25,
     "metadata": {},
     "output_type": "execute_result"
    }
   ],
   "source": [
    "X_test.head(20)"
   ]
  },
  {
   "cell_type": "code",
   "execution_count": 26,
   "metadata": {},
   "outputs": [],
   "source": [
    "# XGBRegressor"
   ]
  },
  {
   "cell_type": "code",
   "execution_count": 27,
   "metadata": {},
   "outputs": [],
   "source": [
    "model = XGBRegressor( \n",
    "    n_estimators = 500,\n",
    "    learning_rate=0.02, \n",
    "    seed=7)"
   ]
  },
  {
   "cell_type": "code",
   "execution_count": 28,
   "metadata": {},
   "outputs": [],
   "source": [
    "from sklearn.model_selection import learning_curve\n",
    "train_sizes, train_scores, test_scores, fit_times, _ = learning_curve(model, X_test, y_test, cv=30, return_times=True)"
   ]
  },
  {
   "cell_type": "code",
   "execution_count": 29,
   "metadata": {},
   "outputs": [
    {
     "data": {
      "image/png": "[encoded data removed]",
      "text/plain": [
       "<Figure size 432x288 with 1 Axes>"
      ]
     },
     "metadata": {
      "needs_background": "light"
     },
     "output_type": "display_data"
    }
   ],
   "source": [
    "plt.plot(train_sizes, np.mean(train_scores, axis=1))\n",
    "plt.xlabel('Training sizes') \n",
    "plt.ylabel('Mean train_score')\n",
    "plt.show()"
   ]
  },
  {
   "cell_type": "code",
   "execution_count": 30,
   "metadata": {},
   "outputs": [],
   "source": [
    "model = model.fit(\n",
    "    X_train, \n",
    "    y_train, \n",
    "    eval_metric=\"rmse\", \n",
    "    verbose=False)"
   ]
  },
  {
   "cell_type": "code",
   "execution_count": 31,
   "metadata": {},
   "outputs": [
    {
     "data": {
      "text/plain": [
       "0.8425897270434302"
      ]
     },
     "execution_count": 31,
     "metadata": {},
     "output_type": "execute_result"
    }
   ],
   "source": [
    "model.score(X_test, y_test)"
   ]
  },
  {
   "cell_type": "code",
   "execution_count": 32,
   "metadata": {},
   "outputs": [],
   "source": [
    "# Support Vector Machine"
   ]
  },
  {
   "cell_type": "code",
   "execution_count": 33,
   "metadata": {},
   "outputs": [
    {
     "data": {
      "text/plain": [
       "0.575084467803466"
      ]
     },
     "execution_count": 33,
     "metadata": {},
     "output_type": "execute_result"
    }
   ],
   "source": [
    "from sklearn import svm\n",
    "regr = svm.SVR()\n",
    "regr.fit(X_train, y_train)\n",
    "regr.score(X_test, y_test)"
   ]
  },
  {
   "cell_type": "code",
   "execution_count": 34,
   "metadata": {},
   "outputs": [
    {
     "data": {
      "image/png": "[encoded data removed]",
      "text/plain": [
       "<Figure size 432x288 with 1 Axes>"
      ]
     },
     "metadata": {
      "needs_background": "light"
     },
     "output_type": "display_data"
    }
   ],
   "source": [
    "train_sizes, train_scores, test_scores, fit_times, _ = learning_curve(regr, X_test, y_test, cv=30, return_times=True)\n",
    "plt.plot(train_sizes, np.mean(train_scores, axis=1))\n",
    "plt.xlabel('Training sizes') \n",
    "plt.ylabel('Mean train_score')\n",
    "plt.show()"
   ]
  },
  {
   "cell_type": "code",
   "execution_count": 35,
   "metadata": {},
   "outputs": [],
   "source": [
    "# Decision Tree"
   ]
  },
  {
   "cell_type": "code",
   "execution_count": 36,
   "metadata": {},
   "outputs": [
    {
     "data": {
      "text/plain": [
       "0.7278864716523665"
      ]
     },
     "execution_count": 36,
     "metadata": {},
     "output_type": "execute_result"
    }
   ],
   "source": [
    "from sklearn import tree\n",
    "clf = tree.DecisionTreeRegressor()\n",
    "clf = clf.fit(X_train, y_train)\n",
    "clf.score(X_test, y_test)"
   ]
  },
  {
   "cell_type": "code",
   "execution_count": 37,
   "metadata": {},
   "outputs": [
    {
     "data": {
      "image/png": "[encoded data removed]",
      "text/plain": [
       "<Figure size 432x288 with 1 Axes>"
      ]
     },
     "metadata": {
      "needs_background": "light"
     },
     "output_type": "display_data"
    }
   ],
   "source": [
    "train_sizes, train_scores, test_scores, fit_times, _ = learning_curve(clf, X_test, y_test, cv=30, return_times=True)\n",
    "plt.plot(train_sizes, np.mean(train_scores, axis=1))\n",
    "plt.xlabel('Training sizes') \n",
    "plt.ylabel('Mean train_score')\n",
    "plt.show()"
   ]
  },
  {
   "cell_type": "code",
   "execution_count": 38,
   "metadata": {},
   "outputs": [],
   "source": [
    "# Neural Network (MLPRegressor)"
   ]
  },
  {
   "cell_type": "code",
   "execution_count": 39,
   "metadata": {},
   "outputs": [
    {
     "data": {
      "text/plain": [
       "0.6930506508632484"
      ]
     },
     "execution_count": 39,
     "metadata": {},
     "output_type": "execute_result"
    }
   ],
   "source": [
    "from sklearn.neural_network import MLPRegressor\n",
    "nnregr = MLPRegressor(random_state=1, max_iter=100000)\n",
    "nnregr.fit(X_train, y_train)\n",
    "nnregr.score(X_test, y_test)"
   ]
  },
  {
   "cell_type": "code",
   "execution_count": 40,
   "metadata": {},
   "outputs": [
    {
     "data": {
      "image/png": "[encoded data removed]",
      "text/plain": [
       "<Figure size 432x288 with 1 Axes>"
      ]
     },
     "metadata": {
      "needs_background": "light"
     },
     "output_type": "display_data"
    }
   ],
   "source": [
    "train_sizes, train_scores, test_scores, fit_times, _ = learning_curve(nnregr, X_test, y_test, cv=30, return_times=True)\n",
    "plt.plot(train_sizes, np.mean(train_scores, axis=1))\n",
    "plt.xlabel('Training sizes') \n",
    "plt.ylabel('Mean train_score')\n",
    "plt.show()"
   ]
  },
  {
   "cell_type": "code",
   "execution_count": 41,
   "metadata": {},
   "outputs": [
    {
     "data": {
      "text/plain": [
       "0.5890383006435391"
      ]
     },
     "execution_count": 41,
     "metadata": {},
     "output_type": "execute_result"
    }
   ],
   "source": [
    "from sklearn import linear_model\n",
    "reg = linear_model.Lars(n_nonzero_coefs=12, normalize=False)\n",
    "reg.fit(X_train, y_train)\n",
    "reg.score(X_test, y_test)"
   ]
  },
  {
   "cell_type": "code",
   "execution_count": 42,
   "metadata": {},
   "outputs": [
    {
     "data": {
      "image/png": "[encoded data removed]",
      "text/plain": [
       "<Figure size 432x288 with 1 Axes>"
      ]
     },
     "metadata": {
      "needs_background": "light"
     },
     "output_type": "display_data"
    }
   ],
   "source": [
    "train_sizes, train_scores, test_scores, fit_times, _ = learning_curve(reg, X_test, y_test, cv=30, return_times=True)\n",
    "plt.plot(train_sizes, np.mean(train_scores, axis=1))\n",
    "plt.xlabel('Training sizes') \n",
    "plt.ylabel('Mean train_score')\n",
    "plt.show()"
   ]
  },
  {
   "cell_type": "code",
   "execution_count": 43,
   "metadata": {},
   "outputs": [],
   "source": [
    "# Random Forest"
   ]
  },
  {
   "cell_type": "code",
   "execution_count": 44,
   "metadata": {},
   "outputs": [
    {
     "data": {
      "text/plain": [
       "0.8502954380903031"
      ]
     },
     "execution_count": 44,
     "metadata": {},
     "output_type": "execute_result"
    }
   ],
   "source": [
    "from sklearn.ensemble import RandomForestRegressor\n",
    "regr = RandomForestRegressor(max_depth=10000, random_state=0)\n",
    "regr.fit(X_train, y_train)\n",
    "regr.score(X_test, y_test)"
   ]
  },
  {
   "cell_type": "code",
   "execution_count": 45,
   "metadata": {},
   "outputs": [
    {
     "data": {
      "image/png": "[encoded data removed]",
      "text/plain": [
       "<Figure size 432x288 with 1 Axes>"
      ]
     },
     "metadata": {
      "needs_background": "light"
     },
     "output_type": "display_data"
    }
   ],
   "source": [
    "train_sizes, train_scores, test_scores, fit_times, _ = learning_curve(regr, X_test, y_test, cv=30, return_times=True)\n",
    "plt.plot(train_sizes, np.mean(train_scores, axis=1))\n",
    "plt.xlabel('Training sizes') \n",
    "plt.ylabel('Mean train_score')\n",
    "plt.show()"
   ]
  },
  {
   "cell_type": "code",
   "execution_count": 46,
   "metadata": {},
   "outputs": [],
   "source": [
    "# Linear Model (Baysian Ridge)"
   ]
  },
  {
   "cell_type": "code",
   "execution_count": 47,
   "metadata": {},
   "outputs": [
    {
     "data": {
      "text/plain": [
       "0.5890179004546502"
      ]
     },
     "execution_count": 47,
     "metadata": {},
     "output_type": "execute_result"
    }
   ],
   "source": [
    "from sklearn import linear_model\n",
    "reg = linear_model.BayesianRidge()\n",
    "reg.fit(X_train, y_train)\n",
    "reg.score(X_test, y_test)"
   ]
  },
  {
   "cell_type": "code",
   "execution_count": 48,
   "metadata": {},
   "outputs": [
    {
     "data": {
      "image/png": "[encoded data removed]",
      "text/plain": [
       "<Figure size 432x288 with 1 Axes>"
      ]
     },
     "metadata": {
      "needs_background": "light"
     },
     "output_type": "display_data"
    }
   ],
   "source": [
    "train_sizes, train_scores, test_scores, fit_times, _ = learning_curve(reg, X_test, y_test, cv=30, return_times=True)\n",
    "plt.plot(train_sizes, np.mean(train_scores, axis=1))\n",
    "plt.xlabel('Training sizes') \n",
    "plt.ylabel('Mean train_score')\n",
    "plt.show()"
   ]
  },
  {
   "cell_type": "code",
   "execution_count": 49,
   "metadata": {},
   "outputs": [],
   "source": [
    "# K Nearest Neighbor"
   ]
  },
  {
   "cell_type": "code",
   "execution_count": 50,
   "metadata": {},
   "outputs": [
    {
     "data": {
      "text/plain": [
       "0.7937267071315093"
      ]
     },
     "execution_count": 50,
     "metadata": {},
     "output_type": "execute_result"
    }
   ],
   "source": [
    "from sklearn.neighbors import KNeighborsRegressor\n",
    "neigh = KNeighborsRegressor(n_neighbors=3)\n",
    "neigh.fit(X_train, y_train)\n",
    "neigh.score(X_test, y_test)"
   ]
  },
  {
   "cell_type": "code",
   "execution_count": 51,
   "metadata": {},
   "outputs": [
    {
     "data": {
      "image/png": "[encoded data removed]",
      "text/plain": [
       "<Figure size 432x288 with 1 Axes>"
      ]
     },
     "metadata": {
      "needs_background": "light"
     },
     "output_type": "display_data"
    }
   ],
   "source": [
    "train_sizes, train_scores, test_scores, fit_times, _ = learning_curve(neigh, X_test, y_test, cv=30, return_times=True)\n",
    "plt.plot(train_sizes, np.mean(train_scores, axis=1))\n",
    "plt.xlabel('Training sizes') \n",
    "plt.ylabel('Mean train_score')\n",
    "plt.show()"
   ]
  },
  {
   "cell_type": "code",
   "execution_count": 52,
   "metadata": {},
   "outputs": [],
   "source": [
    "# Linear Regression"
   ]
  },
  {
   "cell_type": "code",
   "execution_count": 53,
   "metadata": {},
   "outputs": [
    {
     "data": {
      "text/plain": [
       "0.5890383006435393"
      ]
     },
     "execution_count": 53,
     "metadata": {},
     "output_type": "execute_result"
    }
   ],
   "source": [
    "from sklearn.linear_model import LinearRegression\n",
    "reg = LinearRegression().fit(X_train, y_train)\n",
    "reg.score(X_test, y_test)"
   ]
  },
  {
   "cell_type": "code",
   "execution_count": 54,
   "metadata": {},
   "outputs": [
    {
     "data": {
      "image/png": "[encoded data removed]",
      "text/plain": [
       "<Figure size 432x288 with 1 Axes>"
      ]
     },
     "metadata": {
      "needs_background": "light"
     },
     "output_type": "display_data"
    }
   ],
   "source": [
    "train_sizes, train_scores, test_scores, fit_times, _ = learning_curve(reg, X_test, y_test, cv=30, return_times=True)\n",
    "plt.plot(train_sizes, np.mean(train_scores, axis=1))\n",
    "plt.xlabel('Training sizes') \n",
    "plt.ylabel('Mean train_score')\n",
    "plt.show()"
   ]
  }
 ],
 "metadata": {
  "kernelspec": {
   "display_name": "Python 3",
   "language": "python",
   "name": "python3"
  },
  "language_info": {
   "codemirror_mode": {
    "name": "ipython",
    "version": 3
   },
   "file_extension": ".py",
   "mimetype": "text/x-python",
   "name": "python",
   "nbconvert_exporter": "python",
   "pygments_lexer": "ipython3",
   "version": "3.8.1"
  }
 },
 "nbformat": 4,
 "nbformat_minor": 4
}
